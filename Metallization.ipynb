{
  "nbformat": 4,
  "nbformat_minor": 0,
  "metadata": {
    "colab": {
      "provenance": [],
      "authorship_tag": "ABX9TyOnrEm6nRaDtlzh9ZaFS8mz",
      "include_colab_link": true
    },
    "kernelspec": {
      "name": "python3",
      "display_name": "Python 3"
    },
    "language_info": {
      "name": "python"
    }
  },
  "cells": [
    {
      "cell_type": "markdown",
      "metadata": {
        "id": "view-in-github",
        "colab_type": "text"
      },
      "source": [
        "<a href=\"https://colab.research.google.com/github/yarkalm/def_metallization/blob/main/Metallization.ipynb\" target=\"_parent\"><img src=\"https://colab.research.google.com/assets/colab-badge.svg\" alt=\"Open In Colab\"/></a>"
      ]
    },
    {
      "cell_type": "code",
      "source": [
        "import pandas as pd\n",
        "import math\n",
        "import numpy as np\n",
        "from sklearn.preprocessing import StandardScaler\n",
        "from sklearn import preprocessing\n",
        "from sklearn.model_selection import train_test_split\n",
        "from itertools import product\n",
        "\n",
        "import sklearn\n",
        "from tensorflow import keras\n",
        "from keras.layers import Dense, Dropout\n",
        "import matplotlib.pyplot as plt\n",
        "from keras import metrics\n",
        "import tensorflow as tf"
      ],
      "metadata": {
        "id": "qLtDxsWT_bBY"
      },
      "execution_count": null,
      "outputs": []
    },
    {
      "cell_type": "code",
      "source": [
        "df = pd.read_excel('/content/Датасет_металлург.xlsx')\n",
        "\n",
        "\n",
        "\n",
        "input_data = df[[\"CO2\",\"CO\",\"H2\",\"Herm\",\"Magn\",\"Temp\",\"Time\",\"m before\",\"m after\"]]\n",
        "output_data = df[[\"RedDegr\"]]\n",
        "\n",
        "input_data"
      ],
      "metadata": {
        "id": "aTOoly1O_d8q"
      },
      "execution_count": null,
      "outputs": []
    },
    {
      "cell_type": "code",
      "source": [
        "!git commit"
      ],
      "metadata": {
        "colab": {
          "base_uri": "https://localhost:8080/"
        },
        "id": "FKQUiWmA_iop",
        "outputId": "fdcbff75-a950-4967-c83e-8d7ac67d096a"
      },
      "execution_count": 13,
      "outputs": [
        {
          "output_type": "stream",
          "name": "stdout",
          "text": [
            "fatal: not a git repository (or any of the parent directories): .git\n"
          ]
        }
      ]
    }
  ]
}